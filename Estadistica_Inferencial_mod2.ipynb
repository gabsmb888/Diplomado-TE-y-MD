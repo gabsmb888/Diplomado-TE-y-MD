{
  "nbformat": 4,
  "nbformat_minor": 0,
  "metadata": {
    "colab": {
      "provenance": []
    },
    "kernelspec": {
      "name": "python3",
      "display_name": "Python 3"
    },
    "language_info": {
      "name": "python"
    }
  },
  "cells": [
    {
      "cell_type": "markdown",
      "source": [
        "## Proyecto: Módulo II. TE y MD\n",
        "\n",
        "**Estadística Inferencial**\n",
        "\n",
        "- Profesora: Claudia Cristina Reyes Montes de Oca\n",
        "\n",
        "- Alumno: Mosqueda Becerra Gabriel\n",
        "\n",
        "- Número de cuenta: 318286897\n"
      ],
      "metadata": {
        "id": "MrIq5jN4ifbv"
      }
    },
    {
      "cell_type": "markdown",
      "source": [
        "# Creación de Ambiente"
      ],
      "metadata": {
        "id": "UBxkrZt8wzHp"
      }
    },
    {
      "cell_type": "code",
      "source": [
        "import numpy as np\n",
        "\n",
        "from scipy.stats import norm, binom, chi2, expon\n",
        "import sympy # Para el calculo simbólico y algebraico\n",
        "from sympy.abc import x # importa la variable simbólica x\n",
        "import scipy.stats as st\n",
        "\n",
        "# graficos\n",
        "import matplotlib.pyplot as plt\n",
        "import seaborn as sns\n",
        "\n",
        "\n",
        "from scipy import stats # para los intervalos de confianza\n",
        "\n",
        "\n"
      ],
      "metadata": {
        "id": "N893C-02lrnG"
      },
      "execution_count": 108,
      "outputs": []
    },
    {
      "cell_type": "markdown",
      "source": [
        "# Estimadores y sus propiedades\n"
      ],
      "metadata": {
        "id": "Rfhlj1_UkELW"
      }
    },
    {
      "cell_type": "markdown",
      "source": [
        "**Definiciones**"
      ],
      "metadata": {
        "id": "lKTINq9cmZPj"
      }
    },
    {
      "cell_type": "markdown",
      "source": [
        "## Estimador\n",
        "\n",
        "Un **estimador** es una función de la muestra que se utiliza para aproximar un parámetro poblacional desconocido.\n",
        "\n",
        "Si tenemos una muestra aleatoria $X_1, X_2, \\dots, X_n$ de una población con parámetro ${\\theta}$. un estimador de ${\\theta}$ se denota como:\n",
        "\n",
        "$$\n",
        "\\hat{\\theta} = g(X_1, X_2, \\dots, X_n)\n",
        "$$"
      ],
      "metadata": {
        "id": "O5LY4ypokGM1"
      }
    },
    {
      "cell_type": "markdown",
      "source": [
        "\n",
        "### Métodos comunes para obtener estimadores:\n",
        "\n",
        "1. **Método de momentos (MM)**:  \n",
        "   Se igualan los momentos muestrales con los momentos poblacionales. Por ejemplo, para la media poblacional $\\\\mu\\$:\n",
        "\n",
        "   $$\n",
        "   \\hat{\\mu}_{MM} = \\frac{1}{n} \\sum_{i=1}^{n} X_i\n",
        "   $$\n",
        "\n",
        "2. **Máxima verosimilitud (EMV o MLE)**:  \n",
        "   Se busca el valor de $\\\\theta\\$ que **maximiza la función de verosimilitud**:\n",
        "\n",
        "   $$\n",
        "   L(\\theta; X_1, \\dots, X_n) = \\prod_{i=1}^{n} f(X_i;\\theta)\n",
        "   $$\n"
      ],
      "metadata": {
        "id": "maGAtC2bkJj_"
      }
    },
    {
      "cell_type": "markdown",
      "source": [
        "## Insesgadez\n",
        "\n",
        "Un estimador $\\\\hat{\\theta}\\$ es **insesgado** si:\n",
        "\n",
        "$$\n",
        "\\mathbb{E}[\\hat{\\theta}] = \\theta\n",
        "$$\n",
        "\n",
        "Ejemplo: la media muestral $\\bar{X}$ es insesgada para $\\{\\mu\\}$\n",
        "\n",
        "\n"
      ],
      "metadata": {
        "id": "p-kRHSiUlRXi"
      }
    },
    {
      "cell_type": "markdown",
      "source": [
        "\n",
        "## Consistencia\n",
        "\n",
        "Un estimador $\\\\hat{\\theta}_n\\$ es **consistente** si, cuando aumenta el tamaño de la muestra $$\\(n \\to \\infty\\)$$\n",
        "\n",
        "$$\n",
        "\\hat{\\theta}_n \\xrightarrow{p} \\theta\n",
        "$$\n",
        "\n",
        "Esto significa que **con más datos, el estimador se acerca al verdadero parámetro**.\n"
      ],
      "metadata": {
        "id": "AV3vTZsLlXnE"
      }
    },
    {
      "cell_type": "markdown",
      "source": [
        "## Eficiencia\n",
        "\n",
        "Entre dos estimadores insesgados $\\hat{\\theta}_1$ y  $\\hat{\\theta}_2$, se dice que $\\hat{\\theta}_1$ es **más eficiente** si tiene **menor varianza**:\n",
        "\n",
        "$$\n",
        "\\text{Var}(\\hat{\\theta}_1) < \\text{Var}(\\hat{\\theta}_2)\n",
        "$$\n",
        "\n"
      ],
      "metadata": {
        "id": "X-oLVkE9lc1i"
      }
    },
    {
      "cell_type": "markdown",
      "source": [
        "Ejemplo"
      ],
      "metadata": {
        "id": "skedgEnmrpPM"
      }
    },
    {
      "cell_type": "code",
      "source": [
        "# Simulación de datos\n",
        "np.random.seed(0)\n",
        "data = np.random.normal(loc=5, scale=2, size=100)\n",
        "\n",
        "# Estimador de la media por método de momentos\n",
        "mu_mm = np.mean(data)\n",
        "print(\"Estimador de la media (MM):\", mu_mm)\n",
        "\n",
        "# Estimador de la media y desviación por MLE (para normal coincide con MM)\n",
        "mu_mle, sigma_mle = norm.fit(data)\n",
        "print(\"Estimador de la media (MLE):\", mu_mle)\n",
        "print(\"Estimador de la desviación estándar (MLE):\", sigma_mle)\n"
      ],
      "metadata": {
        "colab": {
          "base_uri": "https://localhost:8080/"
        },
        "id": "oUjaCBaJkM3Q",
        "outputId": "4fbee274-1c48-41d6-d3d3-fb9df26d63fb"
      },
      "execution_count": 109,
      "outputs": [
        {
          "output_type": "stream",
          "name": "stdout",
          "text": [
            "Estimador de la media (MM): 5.11961603106897\n",
            "Estimador de la media (MLE): 5.11961603106897\n",
            "Estimador de la desviación estándar (MLE): 2.0157644894331592\n"
          ]
        }
      ]
    },
    {
      "cell_type": "markdown",
      "source": [
        "Exploremos más estos estadísticos"
      ],
      "metadata": {
        "id": "25J8OCW8o7OI"
      }
    },
    {
      "cell_type": "markdown",
      "metadata": {
        "id": "30b6a90f"
      },
      "source": [
        "# Estimador Máximo Verosímil"
      ]
    },
    {
      "cell_type": "markdown",
      "metadata": {
        "id": "d2660852"
      },
      "source": [
        "Ejemplo 1. Lanzamos una moneda 100 veces, sabiendo que se obtienen 55 soles. Encontrar el EMV para la probabilidad $p$ de obtener sol en un sólo lanzamiento.\n",
        "\n",
        "Si $X$: el número de soles que se obtiene al lanzar una moneda, se tiene que $X\\sim Bin(100,p)$, es decir\n",
        "\n",
        "$$f(55 \\text{soles};p) = \\binom{100}{55}p^{55}(1-p)^{100-55}$$"
      ]
    },
    {
      "cell_type": "code",
      "execution_count": 110,
      "metadata": {
        "id": "0ad54981",
        "outputId": "ee3a5958-1efb-4d1c-d9de-07d7f13bda78",
        "colab": {
          "base_uri": "https://localhost:8080/"
        }
      },
      "outputs": [
        {
          "output_type": "stream",
          "name": "stdout",
          "text": [
            "El estimador de máxima verosimilitud para p es 11/20\n"
          ]
        }
      ],
      "source": [
        "# Vamos a definir a p como una variable simbólica positiva\n",
        "p = sympy.symbols('p', positiva=True)\n",
        "# Definimos f\n",
        "f = p**55 * (1-p)**(100-55)\n",
        "#Derivamos f con respecto a p\n",
        "df = sympy.diff(f,p)\n",
        "# Igualamos la derivada a cero y despejamos p\n",
        "phat = sympy.solve(df,p)[1]\n",
        "phat\n",
        "\n",
        "#print(f'El estimador de máxima verosimilitud para p es: {phat}')\n",
        "print(\"El estimador de máxima verosimilitud para p es\", phat)"
      ]
    },
    {
      "cell_type": "code",
      "execution_count": 111,
      "metadata": {
        "id": "b9ede3d9",
        "outputId": "e8428ddb-417a-46d7-9df3-23624ad9a3f7",
        "colab": {
          "base_uri": "https://localhost:8080/"
        }
      },
      "outputs": [
        {
          "output_type": "execute_result",
          "data": {
            "text/plain": [
              "array([1, 1, 1, 1, 1, 1, 1, 1, 1, 1, 1, 1, 1, 1, 1, 1, 0, 1, 1, 0, 0, 0,\n",
              "       1, 0, 0, 0, 1, 0, 1, 1, 1, 0, 0, 1, 1, 1, 1, 1, 0, 0, 0, 0, 1, 1,\n",
              "       0, 1, 1, 1, 1, 1, 0, 1, 1, 0, 0, 1, 1, 1, 1, 1, 0, 1, 1, 1, 0, 1,\n",
              "       1, 1, 1, 0, 0, 1, 1, 1, 1, 1, 1, 1, 1, 1, 1, 1, 1, 1, 1, 0, 0, 1,\n",
              "       1, 1, 1, 0, 1, 1, 1, 0, 1, 0, 1, 0])"
            ]
          },
          "metadata": {},
          "execution_count": 111
        }
      ],
      "source": [
        "# Veamos otro ejemplo\n",
        "\n",
        "# Simularemos una muestra de tamaño 100\n",
        "\n",
        "r = binom.rvs(n=1, p=0.7, size=100)\n",
        "r"
      ]
    },
    {
      "cell_type": "code",
      "execution_count": 112,
      "metadata": {
        "id": "5aa53e1e",
        "outputId": "5e8aabd2-b14f-421a-b031-59ce6f0b48fd",
        "colab": {
          "base_uri": "https://localhost:8080/"
        }
      },
      "outputs": [
        {
          "output_type": "stream",
          "name": "stdout",
          "text": [
            "El estimador de máxima verosimilitud para p es 18/25\n"
          ]
        }
      ],
      "source": [
        "f = p**x * (1-p)**(1-x)\n",
        "J = np.prod([f.subs(x,i) for i in r]) # subs es de susbtituir la variable simbolica\n",
        "logJ = sympy.expand_log(sympy.log(J))\n",
        "phat = sympy.solve(sympy.diff(logJ,p),p)[0]\n",
        "print(\"El estimador de máxima verosimilitud para p es\", phat)\n",
        "# Obtenemos un valor cercano a 0.7"
      ]
    },
    {
      "cell_type": "markdown",
      "metadata": {
        "id": "df570b23"
      },
      "source": [
        "**Ejercicio:** El tiempo de retardo para pacientes con enfermedad coronaria potencial se define como la duración entre el comienzo de un síntoma agudo cardiovascular y la llegada a la unidad de emergencia.\n",
        "\n",
        "Se supone que el tiempo de retardo sigue una distribución exponencial con parámetro $\\theta $.\n",
        "\n",
        "Se registraron los tiempos de retardo (en minutos) en la clínica para los primeros 20 pacientes:\n",
        "\n",
        "$$ 525, \\ 719, \\ 2880, \\ 150, \\ 30, \\ 251, \\ 45, \\ 858, \\ 15, \\ 47, \\ 90, \\ 56, \\ 68, \\ 6, \\ 189, \\ 180, \\ 60, \\ 60, \\ 294, \\ 747 $$\n",
        "\n",
        "- Encuentra un estimador por el **método de momentos** para la media de la distribución (exponencial).\n",
        "  Rocordemos que si $X\\sim Exp(\\theta)$, entonces $\\mathbb{E}[X]=\\frac{1}{\\theta}$\n",
        "- (Python) Encuentra el valor del estimador con los datos dados."
      ]
    },
    {
      "cell_type": "code",
      "source": [
        "# solucion\n",
        "# Importar librerías necesarias\n",
        "import numpy as np\n",
        "import matplotlib.pyplot as plt\n",
        "from scipy.stats import expon\n",
        "\n",
        "\n",
        "datos = np.array([525, 719, 2880, 150, 30, 251, 45, 858, 15, 47,\n",
        "                  90, 56, 68, 6, 189, 180, 60, 60, 294, 747])\n",
        "\n",
        "# Media muestral\n",
        "media_muestral = np.mean(datos)\n",
        "print(f\"Media muestral: {media_muestral:.2f} minutos\")\n",
        "\n",
        "# Estimador de theta por método de momentos\n",
        "theta_hat = 1 / media_muestral\n",
        "print(f\"Estimador de θ (método de momentos): {theta_hat:.5f} por minuto\")\n",
        "\n",
        "# Grafico\n",
        "x = np.linspace(0, max(datos)+100, 1000)\n",
        "\n",
        "# Función de densidad con theta_hat\n",
        "pdf = theta_hat * np.exp(-theta_hat * x)\n",
        "\n",
        "# Graficar\n",
        "plt.figure(figsize=(10,6))\n",
        "plt.hist(datos, bins=15, density=True, alpha=0.6, color='skyblue', label='Datos observados')\n",
        "plt.plot(x, pdf, 'r-', lw=2, label=f'Exponencial ajustada θ={theta_hat:.5f}')\n",
        "plt.title(\"Distribución Exponencial ajustada a los tiempos de retardo\")\n",
        "plt.xlabel(\"Tiempo de retardo (minutos)\")\n",
        "plt.ylabel(\"Densidad\")\n",
        "plt.legend()\n",
        "plt.grid(True)\n",
        "plt.show()\n"
      ],
      "metadata": {
        "colab": {
          "base_uri": "https://localhost:8080/",
          "height": 600
        },
        "id": "YK-TX557r4n3",
        "outputId": "bd176fed-e0b5-457d-9a3a-c0c97c6b6a19"
      },
      "execution_count": 113,
      "outputs": [
        {
          "output_type": "stream",
          "name": "stdout",
          "text": [
            "Media muestral: 363.50 minutos\n",
            "Estimador de θ (método de momentos): 0.00275 por minuto\n"
          ]
        },
        {
          "output_type": "display_data",
          "data": {
            "text/plain": [
              "<Figure size 1000x600 with 1 Axes>"
            ],
            "image/png": "[encoded data removed]"
          },
          "metadata": {}
        }
      ]
    },
    {
      "cell_type": "markdown",
      "metadata": {
        "id": "4e5ca41a"
      },
      "source": [
        "**Ejercicio (Pyton)**. Suponga que la vida util de los focos de cierta marca, se modela mediante una distribución expoencial de parametro  θ  (desconocido). Probamos 5 focos y encontramos que tienen una vida útil de  2,3,1,3  y  5  años, respectivamente. ¿Cuál es el MLE para  θ ?"
      ]
    },
    {
      "cell_type": "code",
      "source": [
        "# solucion\n",
        "\n",
        "datos = np.array([2, 3, 1, 3, 5])  # vida útil de los focos en años\n",
        "\n",
        "# MLE para theta\n",
        "# Para X ~ Exp(theta), la función de verosimilitud es:\n",
        "# L(theta) = prod(theta * exp(-theta*x_i)) => log(L) = n*log(theta) - theta*sum(x_i)\n",
        "# Derivando y igualando a cero, MLE: theta_hat = n / sum(x_i)\n",
        "\n",
        "n = len(datos)\n",
        "theta_mle = n / np.sum(datos)\n",
        "print(f\"Estimador de máxima verosimilitud (MLE) de θ: {theta_mle:.5f} por año\")\n",
        "\n",
        "\n",
        "# En scipy, la función expon.fit devuelve loc y scale; para Exp(theta), scale = 1/theta\n",
        "loc, scale = expon.fit(datos, floc=0)  # fijamos loc=0\n",
        "theta_mle_scipy = 1 / scale\n",
        "print(f\"MLE de θ usando scipy.stats: {theta_mle_scipy:.5f} por año\")\n",
        "\n",
        "\n",
        "# grafico\n",
        "x = np.linspace(0, max(datos)+1, 200)\n",
        "\n",
        "# Función de densidad de la exponencial con el MLE\n",
        "fitted_pdf = theta_mle * np.exp(-theta_mle * x)\n",
        "\n",
        "# Graficar\n",
        "plt.figure(figsize=(8,5))\n",
        "sns.histplot(datos, bins=5, stat='density', color='skyblue', edgecolor='black', label='Datos observados')\n",
        "plt.plot(x, fitted_pdf, 'r-', lw=2, label=f'Exp({theta_mle:.2f}) ajustada (MLE)')\n",
        "plt.xlabel(\"Vida útil (años)\")\n",
        "plt.ylabel(\"Densidad\")\n",
        "plt.title(\"Distribución exponencial ajustada con MLE\")\n",
        "plt.legend()\n",
        "plt.show()\n"
      ],
      "metadata": {
        "colab": {
          "base_uri": "https://localhost:8080/",
          "height": 523
        },
        "id": "UrSsBl2qsWV8",
        "outputId": "90151fb4-2da9-4255-a28e-2b54bf4ca374"
      },
      "execution_count": 114,
      "outputs": [
        {
          "output_type": "stream",
          "name": "stdout",
          "text": [
            "Estimador de máxima verosimilitud (MLE) de θ: 0.35714 por año\n",
            "MLE de θ usando scipy.stats: 0.35714 por año\n"
          ]
        },
        {
          "output_type": "display_data",
          "data": {
            "text/plain": [
              "<Figure size 800x500 with 1 Axes>"
            ],
            "image/png": "[encoded data removed]"
          },
          "metadata": {}
        }
      ]
    },
    {
      "cell_type": "markdown",
      "source": [
        "# Estimador de Momentos"
      ],
      "metadata": {
        "id": "0J5DnuKAsj1U"
      }
    },
    {
      "cell_type": "markdown",
      "source": [
        "### Método de Momentos (MM)\n",
        "\n",
        "### Definición\n",
        "El **método de momentos** es un procedimiento para estimar los parámetros desconocidos de una distribución de probabilidad, usando los **momentos de la muestra**.  \n",
        "\n",
        "Si una variable aleatoria \\(X\\) depende de un parámetro $\\\\theta\\$, se definen los momentos poblacionales:\n",
        "\n",
        "$$\n",
        "\\mu_k = \\mathbb{E}[X^k], \\quad k=1,2,\\dots\n",
        "$$\n",
        "\n",
        "El método de momentos consiste en **igualar los momentos muestrales con los momentos poblacionales** para obtener estimadores de $\\\\theta\\$:\n",
        "\n",
        "$$\n",
        "\\hat{\\theta}_{MM} \\text{ se obtiene resolviendo } \\frac{1}{n}\\sum_{i=1}^n X_i^k = \\mu_k(\\theta), \\quad k=1,2,\\dots\n",
        "$$\n",
        "\n",
        "---\n",
        "\n",
        "### Propiedades\n",
        "1. **Simplicidad:** Solo requiere cálculo de momentos.  \n",
        "2. **Consistencia:** En general, los estimadores por MM son consistentes.  \n",
        "3. **No siempre eficiente:** A diferencia del MLE, puede no ser insesgado ni eficiente.\n",
        "\n",
        "---\n",
        "\n"
      ],
      "metadata": {
        "id": "yRp8M_0ctDJD"
      }
    },
    {
      "cell_type": "markdown",
      "source": [
        "\n",
        "### Ejemplo 1: Exponencial\n",
        "Si $X \\sim \\text{Exp}(\\theta)\\$, se tiene que:\n",
        "\n",
        "$$\n",
        "\\mathbb{E}[X] = \\frac{1}{\\theta}\n",
        "$$\n",
        "\n",
        "El momento muestral de primer orden es:\n",
        "\n",
        "$$\n",
        "\\bar{X} = \\frac{1}{n} \\sum_{i=1}^{n} X_i\n",
        "$$\n",
        "\n",
        "Igualando:\n",
        "\n",
        "$$\n",
        "\\bar{X} = \\frac{1}{\\theta} \\implies \\hat{\\theta}_{MM} = \\frac{1}{\\bar{X}}\n",
        "$$"
      ],
      "metadata": {
        "id": "7T04bqL_tLvg"
      }
    },
    {
      "cell_type": "code",
      "source": [
        "datos = np.array([2, 3, 1, 3, 5])\n",
        "\n",
        "# Método de momentos para exponencial\n",
        "theta_mm = 1 / np.mean(datos)\n",
        "theta_mm\n"
      ],
      "metadata": {
        "colab": {
          "base_uri": "https://localhost:8080/"
        },
        "id": "DV_46olmsoa3",
        "outputId": "02adc0ca-8543-4669-c244-7283aa9d7afe"
      },
      "execution_count": 115,
      "outputs": [
        {
          "output_type": "execute_result",
          "data": {
            "text/plain": [
              "np.float64(0.35714285714285715)"
            ]
          },
          "metadata": {},
          "execution_count": 115
        }
      ]
    },
    {
      "cell_type": "markdown",
      "source": [
        "## Ejemplo 2: Binomial\n",
        "\n",
        "Sea $X \\sim \\text{Bin}(n,p)\\$, donde \\(n\\) es conocido y \\(p\\) es el parámetro desconocido.  \n",
        "\n",
        "El primer momento poblacional es:\n",
        "\n",
        "$$\n",
        "\\mathbb{E}[X] = n p\n",
        "$$\n",
        "\n",
        "Igualando con el momento muestral:\n",
        "\n",
        "$$\n",
        "\\bar{X} = \\frac{1}{m} \\sum_{i=1}^{m} X_i\n",
        "$$\n",
        "\n",
        "Se obtiene el estimador por método de momentos:\n",
        "\n",
        "$$\n",
        "\\hat{p}_{MM} = \\frac{\\bar{X}}{n}\n",
        "$$\n",
        "\n"
      ],
      "metadata": {
        "id": "gbkkJ0Q6tjT_"
      }
    },
    {
      "cell_type": "code",
      "source": [
        "# Datos de ejemplo: número de éxitos en 10 ensayos\n",
        "datos_binom = np.array([3, 5, 4, 6, 2])\n",
        "n = 10\n",
        "\n",
        "# Estimador por método de momentos\n",
        "p_mm = np.mean(datos_binom) / n\n",
        "p_mm\n"
      ],
      "metadata": {
        "colab": {
          "base_uri": "https://localhost:8080/"
        },
        "id": "zWibHyHys3Ga",
        "outputId": "994deffc-eb36-44a5-9059-90fe75f8d2bc"
      },
      "execution_count": 116,
      "outputs": [
        {
          "output_type": "execute_result",
          "data": {
            "text/plain": [
              "np.float64(0.4)"
            ]
          },
          "metadata": {},
          "execution_count": 116
        }
      ]
    },
    {
      "cell_type": "markdown",
      "source": [
        "\n",
        "### Ejemplo 3: Normal\n",
        "\n",
        "Sea $X \\sim N(\\mu, \\sigma^2)\\$ con ambos parámetros desconocidos.\n",
        "\n",
        "**Teoría:**\n",
        "\n",
        "- Primer momento poblacional:  \n",
        "$$\n",
        "\\mathbb{E}[X] = \\mu \\implies \\hat{\\mu}_{MM} = \\bar{X}\n",
        "$$\n",
        "\n",
        "- Segundo momento poblacional:  \n",
        "$$\n",
        "\\mathbb{E}[X^2] = \\sigma^2 + \\mu^2 \\implies \\hat{\\sigma}^2_{MM} = \\frac{1}{n}\\sum_{i=1}^{n} X_i^2 - \\bar{X}^2\n",
        "$$\n"
      ],
      "metadata": {
        "id": "BHiXjEtDs2xy"
      }
    },
    {
      "cell_type": "code",
      "source": [
        "datos_norm = np.array([4.2, 5.1, 3.8, 4.5, 5.0])\n",
        "\n",
        "# Estimador de la media por método de momentos\n",
        "mu_mm = np.mean(datos_norm)\n",
        "\n",
        "# Estimador de la varianza por método de momentos\n",
        "sigma2_mm = np.mean(datos_norm**2) - mu_mm**2\n",
        "\n",
        "mu_mm, sigma2_mm\n"
      ],
      "metadata": {
        "colab": {
          "base_uri": "https://localhost:8080/"
        },
        "id": "_8GQx7Wbt9tG",
        "outputId": "93040859-7321-4f40-a0f0-a752cfe4bb63"
      },
      "execution_count": 117,
      "outputs": [
        {
          "output_type": "execute_result",
          "data": {
            "text/plain": [
              "(np.float64(4.5200000000000005), np.float64(0.23759999999999337))"
            ]
          },
          "metadata": {},
          "execution_count": 117
        }
      ]
    },
    {
      "cell_type": "markdown",
      "metadata": {
        "id": "a1d66bd4"
      },
      "source": [
        "# Intervalos de confianza"
      ]
    },
    {
      "cell_type": "markdown",
      "metadata": {
        "id": "dfb2e626"
      },
      "source": [
        "## Intervalo de Confianza para la media de una distribución normal (σ conocida)\n",
        "\n",
        "Sea $X_1, \\dots, X_n$ una m.a. $X_i \\sim \\mathcal{N}(\\mu, \\sigma^2)$. Entonces:\n",
        "\n",
        "- $\\bar{X} \\sim \\mathcal{N}(\\mu, \\frac{\\sigma^2}{n})$\n",
        "- $Z = \\frac{\\bar{X} - \\mu}{\\sigma / \\sqrt{n}} \\sim \\mathcal{N}(0,1)$\n",
        "\n",
        "### Nivel de significancia (error): $\\alpha$\n",
        "\n",
        "El intervalo de confianza se basa en que:\n",
        "$$\n",
        "\\mathbb{P}\\left( -z_{\\alpha/2} < \\frac{\\bar{X} - \\mu}{\\sigma / \\sqrt{n}} < z_{\\alpha/2} \\right)\n",
        "= \\mathbb{P}\\left( \\bar{X} - z_{\\alpha/2} \\frac{\\sigma}{\\sqrt{n}} < \\mu < \\bar{X} + z_{\\alpha/2} \\frac{\\sigma}{\\sqrt{n}} \\right)\n",
        "= 1 - \\alpha\n",
        "$$\n",
        "\n",
        "### El intervalo del $(1 - \\alpha) \\cdot 100\\%$ de confianza para $\\mu$ (con $\\sigma$ conocida) es:\n",
        "\n",
        "$$\n",
        "\\left( \\bar{X} - z_{\\alpha/2} \\frac{\\sigma}{\\sqrt{n}}, \\quad \\bar{X} + z_{\\alpha/2} \\frac{\\sigma}{\\sqrt{n}} \\right)\n",
        "$$\n",
        "donde\n",
        "- $\\sigma$ es la desviación estándar\n",
        "- $\\frac{\\sigma}{\\sqrt{n}}$ es el error estándar de la media\n",
        "- $z_{\\alpha/2}$ determina el nivel de confianza\n",
        "- el intervalo está centrado en $\\bar{X}$\n",
        "\n",
        "**OBS** A mayor valor de $n$ -> menor error estándar -> el intervalo de confianza es más pequeño -> lo cual hace que se acerque más a la media, es decir, que haya menos variación."
      ]
    },
    {
      "cell_type": "markdown",
      "metadata": {
        "id": "b8d73b3b"
      },
      "source": [
        "**EJEMPLO 1** Para trata de estimar la media de consumo por cliente en un restaurante, se reunieron datos de una muestra de $49$ clientes durante tres semanas.\n",
        "\n",
        "**a)** Supongamos que la **desviación estándar** de la población es de $\\$2.5$. ¿Cuál es el error estándar de la media?\n",
        "\n",
        "**b)** Con un nivel de confianza del $95\\%$, ¿cuál es el margen de error?\n",
        "\n",
        "**c)** Si la media de la muestra es de $\\$22.60$ ¿cuál es el intervalo de confianza del $95\\%$ para la media de la población?"
      ]
    },
    {
      "cell_type": "code",
      "execution_count": 118,
      "metadata": {
        "id": "577f7771",
        "outputId": "6c0f3114-7696-4988-d8d7-c35eb8cff6be",
        "colab": {
          "base_uri": "https://localhost:8080/"
        }
      },
      "outputs": [
        {
          "output_type": "stream",
          "name": "stdout",
          "text": [
            "Eror estándar de la media: 0.36\n",
            "Margen de error: 0.70\n",
            "Intervalo de confianza del 95.0%: (21.90, 23.30)\n"
          ]
        }
      ],
      "source": [
        "# Datos:\n",
        "n = 49\n",
        "sigma = 2.5\n",
        "media_muestral = 22.60\n",
        "confianza = 0.95\n",
        "\n",
        "# a) Error estándar de la media\n",
        "error_estandar = sigma / np.sqrt(n)\n",
        "print(f\"Eror estándar de la media: {error_estandar:.2f}\")\n",
        "\n",
        "# b) Margen de error\n",
        "# 1-confianza= 0.05 => 0.025 en cada cola -> (1-confianza)/2\n",
        "\n",
        "z = st.norm.ppf(1 - (1 - confianza) / 2) # ppf -> percentil point function\n",
        "# z_{0.975} es tal que P(Z <= z_{0.975}) = 0.975\n",
        "margen_error = z * error_estandar\n",
        "print(f\"Margen de error: {margen_error:.2f}\")\n",
        "\n",
        "# c) Intervalo de confianza\n",
        "limite_inferior = media_muestral - margen_error\n",
        "limite_superior = media_muestral + margen_error\n",
        "print(f\"Intervalo de confianza del {confianza*100}%: ({limite_inferior:.2f}, {limite_superior:.2f})\")"
      ]
    },
    {
      "cell_type": "markdown",
      "metadata": {
        "id": "d43e2107"
      },
      "source": [
        "Por lo tanto, podemos decir que con un $95\\%$ de confianza, se estima que el **consumo medio poblacional** está entre $\\$21.90$ y $\\$23.30$"
      ]
    },
    {
      "cell_type": "markdown",
      "metadata": {
        "id": "ef65d1f4"
      },
      "source": [
        "**Ejemplo 2** Supongamos que se toma una muestra aleatoria de 100 personas para estimar la media del peso de una población, y se obtiene que la media muestral es de $70$ kg con una desviación estándar que es conocida de $10$ kg. Para un nivel de confianza del $95\\%$, calcular el intervalo de confianza."
      ]
    },
    {
      "cell_type": "code",
      "execution_count": 119,
      "metadata": {
        "id": "08fd2388",
        "outputId": "57ececdb-7d3c-4995-ddd3-06c1b6455e41",
        "colab": {
          "base_uri": "https://localhost:8080/"
        }
      },
      "outputs": [
        {
          "output_type": "stream",
          "name": "stdout",
          "text": [
            "Intervalo de confianza del 95.0%: (68.04, 71.96)\n"
          ]
        }
      ],
      "source": [
        "# Datos:\n",
        "n = 100\n",
        "sigma = 10\n",
        "media_muestral = 70\n",
        "confianza = 0.95\n",
        "error_estandar = sigma / np.sqrt(n)\n",
        "\n",
        "# Vamos a utilizar la función scipy.stats.norm.interval\n",
        "# Sintaxis: scipy.stats.norm.interval(confidence = confianza, loc=media_muestral, scale=error_estandar)\n",
        "\n",
        "intervalo = st.norm.interval(confianza, loc=media_muestral, scale=error_estandar)\n",
        "\n",
        "print(f\"Intervalo de confianza del {confianza*100}%: ({intervalo[0]:.2f}, {intervalo[1]:.2f})\")"
      ]
    },
    {
      "cell_type": "markdown",
      "metadata": {
        "id": "0eb674c5"
      },
      "source": [
        "## Intervalo de Confianza para la media $\\mu$ de una distribución normal ($\\sigma$ deconocida)\n",
        "\n",
        "Sea $X_1, \\dots, X_n$ una m.a. $X_i \\sim \\mathcal{N}(\\mu, \\sigma^2)$. Entonces:\n",
        "\n",
        "- $\\bar{X} \\sim \\mathcal{N}(\\mu, \\frac{\\sigma^2}{n})$\n",
        "- $Z = \\frac{\\bar{X} - \\mu}{\\sigma / \\sqrt{n}} \\sim \\mathcal{N}(0,1)$\n",
        "\n",
        "Si el tamaño de la muestra es menor a 30, se utiliza la $t$:\n",
        "### Estadístico t\n",
        "\n",
        "Definimos el estadístico $t$ de la siguiente manera:\n",
        "$$T = \\frac{\\bar{X}-\\mu}{s/\\sqrt{n}} \\sim t_{(n-1)} $$\n",
        "\n",
        "### El intervalo del $(1 - \\alpha) \\cdot 100\\%$ de confianza para $\\mu$ (con $\\sigma$ desconocida) es:\n",
        "\n",
        "$$\n",
        "\\left( \\bar{X} - t_{\\alpha/2} \\frac{s}{\\sqrt{n}}, \\quad \\bar{X} + t_{\\alpha/2} \\frac{s}{\\sqrt{n}} \\right)\n",
        "$$\n",
        "donde\n",
        "\n",
        "- $s$ = desviación estándar muestral\n",
        "- $\\frac{s}{\\sqrt{n}}$ = error estándar de la media  \n",
        "- $t_{\\alpha/2}$ determina el nivel de confianza  \n",
        "- El intervalo está centrado en $\\bar{X}$"
      ]
    },
    {
      "cell_type": "markdown",
      "metadata": {
        "id": "0c476534"
      },
      "source": [
        "**Ejemplo 3** Supongamos que tenemos los soguientes datos de una muestra aleatoria de 10 observaciones:\n",
        "$$ datos = [45, 55, 67, 45, 68, 79, 98, 87, 84, 82] $$\n",
        "Calcular un intervalo de confianza para la media."
      ]
    },
    {
      "cell_type": "code",
      "execution_count": 120,
      "metadata": {
        "id": "83639ec0",
        "outputId": "5354efb3-d3c5-4811-eeb6-f99b0073312f",
        "colab": {
          "base_uri": "https://localhost:8080/"
        }
      },
      "outputs": [
        {
          "output_type": "stream",
          "name": "stdout",
          "text": [
            "La media muestral es: 71.00\n",
            "Intervalo de confianza del 95.0%: (58.00, 84.00)\n"
          ]
        }
      ],
      "source": [
        "datos = [45, 55, 67, 45, 68, 79, 98, 87, 84, 82]\n",
        "n = len(datos)\n",
        "confianza = 0.95\n",
        "gl = n - 1\n",
        "\n",
        "# Tenemos la media y el error estándar\n",
        "media_muestral = np.mean(datos)\n",
        "error_estandar = st.sem(datos) # std error of the mean utilizando la desviación estándar muestral\n",
        "\n",
        "# Utilizamos la distribución t de Student\n",
        "intervalo = st.t.interval(confianza, df=gl, loc=media_muestral, scale=error_estandar)\n",
        "print(f\"La media muestral es: {media_muestral:.2f}\")\n",
        "print(f\"Intervalo de confianza del {confianza*100}%: ({intervalo[0]:.2f}, {intervalo[1]:.2f})\")\n"
      ]
    },
    {
      "cell_type": "markdown",
      "metadata": {
        "id": "7f619b52"
      },
      "source": [
        "**Ejemplo 4** Los artículos de cerámica utilizados sobre velas electricas sobrecargadas se rompen con diferentes presiones. Supongamos que los datos provienen de una distribución normal.\n",
        "\n",
        "La resistencia a la ruptura fue medida en una muestra de 100 artículos, y el promedio fue de $1750$ con un desviación estándar de 315.8\n",
        "\n",
        "**a)** Estimar con un nivel del confianza del $90\\%$ a la media poblacional de la presión de la ruptura.\n",
        "\n",
        "**b)** Estimar con un nivel del confianza del $90\\%$ a la varianza poblacional."
      ]
    },
    {
      "cell_type": "markdown",
      "metadata": {
        "id": "b742c727"
      },
      "source": [
        "Estamos utilizado la formula para en b)\n",
        "\n",
        "$$ \\left(\n",
        " \\frac{(n - 1) s^2}{\\chi^2_{1 - \\alpha/2}} ,\n",
        " \\frac{(n - 1) s^2}{\\chi^2_{\\alpha/2}}\n",
        "\\right) $$"
      ]
    },
    {
      "cell_type": "code",
      "execution_count": 121,
      "metadata": {
        "id": "372c593a",
        "outputId": "a27f56c2-e8ac-4d1f-d592-c779f38a7f09",
        "colab": {
          "base_uri": "https://localhost:8080/"
        }
      },
      "outputs": [
        {
          "output_type": "stream",
          "name": "stdout",
          "text": [
            "Intervalo de confianza para la media del 90.0%: (1698.06, 1801.94)\n",
            "Intervalo de confianza para la varianza del 90.0%: (80123.49, 128146.72)\n",
            "Intervalo de confianza para la varianza del 90.0%: (80123.49, 128146.72)\n"
          ]
        }
      ],
      "source": [
        "#Datos:\n",
        "n = 100\n",
        "media_muestral = 1750\n",
        "desviacion_muestral = 315.8 # varianza muestral = 99,729.64\n",
        "confianza = 0.90\n",
        "\n",
        "# a) Se tiene que n>30, por lo que usamos la normal\n",
        "error_estandar = desviacion_muestral / np.sqrt(n)\n",
        "intervalo_media = st.norm.interval(confianza, loc=media_muestral, scale=error_estandar)\n",
        "print(f\"Intervalo de confianza para la media del {confianza*100}%: ({intervalo_media[0]:.2f}, {intervalo_media[1]:.2f})\")\n",
        "\n",
        "# b) Intervalo de confianza para la varianza\n",
        "gl = n - 1\n",
        "alpha = 1 - confianza\n",
        "s2 = desviacion_muestral**2\n",
        "\n",
        "# Vamos a calcular los cuantiles de la distribución chi-cuadrado\n",
        "chi2_inf = st.chi2.ppf(alpha / 2, df=gl)\n",
        "chi2_sup = st.chi2.ppf(1 - alpha / 2, df=gl)\n",
        "intervalo_varianza = ((gl * s2) / chi2_sup, (gl * s2) / chi2_inf)\n",
        "print(f\"Intervalo de confianza para la varianza del {confianza*100}%: ({intervalo_varianza[0]:.2f}, {intervalo_varianza[1]:.2f})\")\n",
        "\n",
        "# Otra forma de calcular el intervalo de confianza para la varianza\n",
        "chi2_inf, chi2_sup = chi2.interval(confianza, df=gl)\n",
        "intervalo_varianza2 = ((gl * s2) / chi2_sup, (gl * s2) / chi2_inf)\n",
        "print(f\"Intervalo de confianza para la varianza del {confianza*100}%: ({intervalo_varianza2[0]:.2f}, {intervalo_varianza2[1]:.2f})\")\n"
      ]
    },
    {
      "cell_type": "markdown",
      "source": [
        "**Ejercicios extra de intervalos de confianza**"
      ],
      "metadata": {
        "id": "nqbTlmDWyNH_"
      }
    },
    {
      "cell_type": "markdown",
      "source": [
        "## Ejercicio 1\n",
        "En una encuesta de una Universidad, 225 estudiantes son seleccionados al azar de los que toman cálculo y se les pregunta si cálculo es su materia favorita. 100 estudiantes responden que el cálculo es su materia favorita. Proporcione un intervalo de confianza del 95 %  para la proporción de todos los estudiantes que toman cálculo y que la consideran su materia favorita.  \n"
      ],
      "metadata": {
        "id": "uA_mh8LYv3J_"
      }
    },
    {
      "cell_type": "code",
      "source": [
        "\n",
        "n1 = 225\n",
        "x1 = 100\n",
        "p_hat1 = x1 / n1           # proporción muestral\n",
        "alpha1 = 0.05\n",
        "z1 = stats.norm.ppf(1 - alpha1/2)\n",
        "se1 = np.sqrt(p_hat1 * (1 - p_hat1) / n1)\n",
        "ci1 = (p_hat1 - z1 * se1, p_hat1 + z1 * se1)\n",
        "\n",
        "print(\"IC 95% proporción:\", ci1)"
      ],
      "metadata": {
        "colab": {
          "base_uri": "https://localhost:8080/"
        },
        "id": "i5dnfelbv3V7",
        "outputId": "91ecc8a4-6496-4dda-9e3a-561aecae12ed"
      },
      "execution_count": 122,
      "outputs": [
        {
          "output_type": "stream",
          "name": "stdout",
          "text": [
            "IC 95% proporción: (np.float64(0.37951684884617914), np.float64(0.5093720400427098))\n"
          ]
        }
      ]
    },
    {
      "cell_type": "markdown",
      "source": [
        "\n",
        "**Ejercicio 2**\n",
        "\n",
        "Los datos $1.2,\\ 2.1,\\ 2.3,\\ 1.9,\\ 3.0,\\ 1.5,\\ 2.8,\\ 2.4,\\ 1.7,\\ 2.6,\\ 2.0,\\ 1.8,\\ 3.1,\\ 2.2,\\ 2.5$ se toman a partir de una distribución normal $N(\\mu,\\sigma^2)$ con $\\mu$ desconocida.\n",
        "\n",
        "**a)** Encuentra un intervalo de confianza al nivel de $90\\%$ para $\\mu$, dado que $\\sigma =2$.\n",
        "\n",
        "**b)** Encuentra un intervalo de confianza al nivel de $90\\%$ para $\\mu$.\n",
        "\n",
        "**c)** Encuentra un intervalo de confianza al nivel de $90\\%$ para $\\sigma^2$."
      ],
      "metadata": {
        "id": "Ez4rMDiOv_Q7"
      }
    },
    {
      "cell_type": "code",
      "source": [
        "data2 = np.array([1.2,2.1,2.3,1.9,3.0,1.5,2.8,2.4,1.7,2.6,2.0,1.8,3.1,2.2,2.5])\n",
        "n2 = len(data2)\n",
        "mean2 = np.mean(data2)\n",
        "sigma_known = 2\n",
        "alpha2 = 0.10\n",
        "\n",
        "# a)\n",
        "z2 = stats.norm.ppf(1 - alpha2/2)\n",
        "se2a = sigma_known / np.sqrt(n2)\n",
        "ci2a = (mean2 - z2 * se2a, mean2 + z2 * se2a)\n",
        "\n",
        "# b)\n",
        "s2 = np.std(data2, ddof=1)\n",
        "t2 = stats.t.ppf(1 - alpha2/2, df=n2-1)\n",
        "se2b = s2 / np.sqrt(n2)\n",
        "ci2b = (mean2 - t2 * se2b, mean2 + t2 * se2b)\n",
        "\n",
        "# c)\n",
        "chi2_lower = stats.chi2.ppf(alpha2/2, df=n2-1)\n",
        "chi2_upper = stats.chi2.ppf(1 - alpha2/2, df=n2-1)\n",
        "ci2c = ((n2-1)*s2**2/chi2_upper, (n2-1)*s2**2/chi2_lower)\n",
        "\n",
        "print(\"2a - IC 90% mu :\", ci2a)\n",
        "print(\"2b - IC 90% mu :\", ci2b)\n",
        "print(\"2c - IC 90% sigma^2:\", ci2c)\n"
      ],
      "metadata": {
        "colab": {
          "base_uri": "https://localhost:8080/"
        },
        "id": "yKUVQc96v_be",
        "outputId": "121bc4e3-3967-46ab-e625-a1d763aa9c27"
      },
      "execution_count": 123,
      "outputs": [
        {
          "output_type": "stream",
          "name": "stdout",
          "text": [
            "2a - IC 90% mu : (np.float64(1.357267906115744), np.float64(3.056065427217589))\n",
            "2b - IC 90% mu : (np.float64(1.9590867859121577), np.float64(2.4542465474211754))\n",
            "2c - IC 90% sigma^2: (np.float64(0.17518977811239209), np.float64(0.6314968974778155))\n"
          ]
        }
      ]
    },
    {
      "cell_type": "markdown",
      "source": [
        "\n",
        "**Ejercicio 3**\n",
        "\n",
        "Los ingresos semanales promedio de las personas que trabajan en varias industrias aparecieron en el *The New York Times 1988 Almanac*.  \n",
        "Esos ingresos para quienes trabajan en los servicios fueron de $\\$369$. Suponga que este resultado se basó en una muestra de 250 personas dedicadas a los servicios y que la desviación estándar de la muestra fue de $\\$50$. Calcula el intervalo de confianza del 95% para la media de la población de ingresos semanales de personas que trabajan en los servicios.\n"
      ],
      "metadata": {
        "id": "x6t7TPdjwIis"
      }
    },
    {
      "cell_type": "code",
      "source": [
        "\n",
        "xbar3 = 369\n",
        "n3 = 250\n",
        "s3 = 50\n",
        "alpha3 = 0.05\n",
        "z3 = stats.norm.ppf(1 - alpha3/2)\n",
        "se3 = s3 / np.sqrt(n3)\n",
        "ci3 = (xbar3 - z3 * se3, xbar3 + z3 * se3)\n",
        "\n",
        "print(\"IC 95% media:\", ci3)\n"
      ],
      "metadata": {
        "colab": {
          "base_uri": "https://localhost:8080/"
        },
        "id": "z5f2H-QQwIsI",
        "outputId": "3da59dee-fb87-4492-cf04-6457ab491659"
      },
      "execution_count": 124,
      "outputs": [
        {
          "output_type": "stream",
          "name": "stdout",
          "text": [
            "IC 95% media: (np.float64(362.80204967695437), np.float64(375.19795032304563))\n"
          ]
        }
      ]
    },
    {
      "cell_type": "markdown",
      "source": [
        "\n",
        "**Ejercicio 4** En un estudio de préstamos a estudiantes, el Departamento de Educación informó que los beneficiarios del fondo Stafford Loan deberían un promedio de \\$12,658 al recibirse (*USA Today*, 5 de abril de 1995). Suponga que este promedio de deuda se basa en una muestra de 480 préstamos a estudiantes y que la desviación estándar de la población de las deudas al recibirse es \\$2,000.\n",
        "\n",
        "**a)** Determina un estimado de confianza del **90%** del promedio poblacional de la deuda.\n",
        "\n",
        "**b)** Determina un estimado de confianza del **95%** del promedio poblacional de la deuda.\n",
        "\n",
        "**c)** Determina un estimado de confianza del **99%** del promedio poblacional de la deuda.\n",
        "\n",
        "**d)** Describe lo que sucede con el **ancho del intervalo de confianza** a medida que se **aumenta el nivel de confianza**. ¿Parece razonable? Explica tu respuesta.\n",
        "\n"
      ],
      "metadata": {
        "id": "a_9Tk-KNwOMQ"
      }
    },
    {
      "cell_type": "code",
      "source": [
        "xbar4 = 12658\n",
        "n4 = 480\n",
        "sigma4 = 2000\n",
        "\n",
        "def ci_mean_known_sigma(xbar, n, sigma, alpha):\n",
        "    z = stats.norm.ppf(1 - alpha/2)\n",
        "    se = sigma / np.sqrt(n)\n",
        "    return (xbar - z*se, xbar + z*se)\n",
        "\n",
        "ci4a = ci_mean_known_sigma(xbar4, n4, sigma4, 0.10)  # 90%\n",
        "ci4b = ci_mean_known_sigma(xbar4, n4, sigma4, 0.05)  # 95%\n",
        "ci4c = ci_mean_known_sigma(xbar4, n4, sigma4, 0.01)  # 99%\n",
        "\n",
        "print(\"4a. IC 90% media:\", ci4a)\n",
        "print(\"4b. IC 95% media:\", ci4b)\n",
        "print(\"4c. IC 99% media:\", ci4c)\n",
        "print(\"4d. Al aumentar el nivel de confianza, el intervalo se hace más ancho\")\n"
      ],
      "metadata": {
        "colab": {
          "base_uri": "https://localhost:8080/"
        },
        "id": "l_2B6lTWwOVJ",
        "outputId": "78f6ed95-c8b3-41c4-a821-249af91c9799"
      },
      "execution_count": 125,
      "outputs": [
        {
          "output_type": "stream",
          "name": "stdout",
          "text": [
            "4a. IC 90% media: (np.float64(12507.846094120749), np.float64(12808.153905879251))\n",
            "4b. IC 95% media: (np.float64(12479.080585628284), np.float64(12836.919414371716))\n",
            "4c. IC 99% media: (np.float64(12422.860031027241), np.float64(12893.139968972759))\n",
            "4d. Al aumentar el nivel de confianza, el intervalo se hace más ancho\n"
          ]
        }
      ]
    },
    {
      "cell_type": "markdown",
      "source": [
        "\n",
        "\n",
        "**Ejercicio 5** La encuesta anual de calidad de automóviles, efectuada por *J. D. Power & Associates*, determinó que la cantidad promedio de defectos, en todas las marcas, por cada vehículo nuevo es **1.07**  (*The Wall Street Journal*, 27 de enero de 1994). Suponga que se toma una muestra de **30 automóviles nuevos** de determinada marca y se obtienen las siguientes cantidades de defectos por vehículo:\n",
        "$$ 0, 1, 1, 2, 1, 0, 2, 3, 2, 1, 0, 2, 0, 0, 2, 3, 0, 4, 3, 1, 1, 1, 0, 2, 0, 2, 0, 3, 1, 0 $$\n",
        "\n",
        "**a)** ¿Cuál es el promedio muestral de la cantidad de defectos por vehículo?\n",
        "\n",
        "**b)** ¿Cuál es la desviación estándar de la muestra?\n",
        "\n",
        "**c)** Determine un intervalo de confianza del 95% para la **media de defectos** por vehículo de esta marca.\n",
        "\n",
        "**d)** Un analista sugirió que se debería **revisar una muestra mayor** antes de comparar con el promedio general de J.D. Power (1.07). ¿Respalda usted esta idea? ¿Por qué?\n"
      ],
      "metadata": {
        "id": "aiOynGeZwTjF"
      }
    },
    {
      "cell_type": "code",
      "source": [
        "data5 = np.array([0,1,1,2,1,0,2,3,2,1,0,2,0,0,2,3,0,4,3,1,1,1,0,2,0,2,0,3,1,0])\n",
        "n5 = len(data5)\n",
        "mean5 = np.mean(data5)\n",
        "s5 = np.std(data5, ddof=1)\n",
        "alpha5 = 0.05\n",
        "t5 = stats.t.ppf(1 - alpha5/2, df=n5-1)\n",
        "se5 = s5 / np.sqrt(n5)\n",
        "ci5 = (mean5 - t5*se5, mean5 + t5*se5)\n",
        "\n",
        "print(\"5a - Media muestral defectos:\", mean5)\n",
        "print(\"5b - Desv. estándar muestral defectos:\", s5)\n",
        "print(\"5c - IC 95% media defectos:\", ci5)\n",
        "print(\"5d - Una muestra mayor reduce error estándar y da un IC más estrecho\")\n",
        "\n"
      ],
      "metadata": {
        "colab": {
          "base_uri": "https://localhost:8080/"
        },
        "id": "RcsXnf3jwTsB",
        "outputId": "e47928d0-61b8-4aaf-9ff7-193af79953ed"
      },
      "execution_count": 126,
      "outputs": [
        {
          "output_type": "stream",
          "name": "stdout",
          "text": [
            "5a - Media muestral defectos: 1.2666666666666666\n",
            "5b - Desv. estándar muestral defectos: 1.1724814044061258\n",
            "5c - IC 95% media defectos: (np.float64(0.8288549150266638), np.float64(1.7044784183066695))\n",
            "5d - Una muestra mayor reduce error estándar y da un IC más estrecho\n"
          ]
        }
      ]
    },
    {
      "cell_type": "markdown",
      "source": [
        "Conclusión\n",
        "\n",
        "Al revisar los resultados nos dimos cuenta de que los intervalos de confianza son una forma práctica de medir cuánta incertidumbre existe en las estimaciones. Observamos que cuando se usan muestras más grandes los intervalos se hacen más estrechos porque existe más información y los cálculos se vuelven más precisos. También notamos que, si pedimos más confianza (por ejemplo pasar de 90 % a 99 %) el intervalo se abre para cubrir más posibilidades. En pocas palabras, mientras más datos tengamos, más precisión existe; y mientras más confianza quiero, más amplio resulta el intervalo."
      ],
      "metadata": {
        "id": "D9pPX0Z2vwDO"
      }
    },
    {
      "cell_type": "markdown",
      "metadata": {
        "id": "mtjoVuoJOKfT"
      },
      "source": [
        "# Bibliografia"
      ]
    },
    {
      "cell_type": "markdown",
      "metadata": {
        "id": "k-zFlEqnOXsl"
      },
      "source": [
        "1. Casella, G., & Berger, R. L. (2002). *Statistical Inference* (2nd ed.). Duxbury Press.\n",
        "\n",
        "2. Rincón, L. (2014). *Introducción a la probabilidad*. Las Prensas de Ciencias, Facultad de Ciencias, UNAM.\n",
        "   \n",
        "3. Ross, S. M. (2014). *Introduction to Probability Models* (11th ed.). Academic Press.\n",
        "   "
      ]
    }
  ]
}